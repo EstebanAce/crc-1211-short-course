{
 "cells": [
  {
   "cell_type": "markdown",
   "metadata": {},
   "source": [
    "# Modeling an orogenic system using FastScape: 7. Piedmont deposition"
   ]
  },
  {
   "cell_type": "markdown",
   "metadata": {},
   "source": [
    "![Henry Mountains](HenryMountains.jpg \"Henry Mountains\")"
   ]
  },
  {
   "cell_type": "markdown",
   "metadata": {},
   "source": [
    "We now wish to consider the effect of sedimentation at the foot of a mountain front (in a piedmont)\n",
    "\n",
    "For this we will use the \"sediment_model\", which is an addition to the SPL model introduced by [Davy and Lague, 2009](https://agupubs.onlinelibrary.wiley.com/doi/full/10.1029/2008JF001146) and developed into an implicit and O(n) algorithm by [Yuan et al, 2019](https://agupubs.onlinelibrary.wiley.com/doi/full/10.1029/2018JF004867). It states that the rate of change of topography is controlled by uplift, erosion and deposition and that deposition is proportional to the ratio of upstream sediment flux and water discharge. This gives the following equation (neglecting hillslope processes):\n",
    "\n",
    "$$\\frac{\\partial h}{\\partial t}=U-K_fA^mS^n+G\\frac{Q_s}{A}=U-K_fA^mS^n+G\\frac{U-\\int_A\\frac{\\partial h}{\\partial t}\\ dA}{A}$$\n",
    "\n",
    "where $G$ is a dimensionless factor estimated at around 1 or 2 [Guerit et al, 2019](https://pubs.geoscienceworld.org/gsa/geology/article/47/9/853/572094/Fluvial-landscape-evolution-controlled-by-the) but depends linearly on precipitation rate."
   ]
  },
  {
   "cell_type": "code",
   "execution_count": null,
   "metadata": {},
   "outputs": [],
   "source": [
    "import numpy as np\n",
    "import matplotlib.pyplot as plt\n",
    "#plt.style.use('dark_background')\n",
    "\n",
    "import xsimlab as xs\n",
    "import xarray as xr\n",
    "%load_ext xsimlab.ipython\n",
    "\n",
    "from fastscape.models import sediment_model\n"
   ]
  },
  {
   "cell_type": "markdown",
   "metadata": {},
   "source": [
    "The sediment model requires also several other parameters, such as separate values of Kf and G for bedrock and sediment and an exponent ($p$) that is used to control the divergence of water flow. If the exponent is very large, the flow is very focused; if the exponent is very small, the flow is very distributed. There are some theoeretical reasons to use $p=1$ but they are \"weak\"..."
   ]
  },
  {
   "cell_type": "code",
   "execution_count": null,
   "metadata": {},
   "outputs": [],
   "source": [
    "spl_model = sediment_model.drop_processes('diffusion')\n",
    "spl_model.bedrock"
   ]
  },
  {
   "cell_type": "markdown",
   "metadata": {},
   "source": [
    "We compute $x$ and $y$ arrays to specify a space-variable uplift rate (only half fd the model is a mountain or is in uplift; the other half is not uplifting and represent the adjacent piedmont area)"
   ]
  },
  {
   "cell_type": "code",
   "execution_count": null,
   "metadata": {},
   "outputs": [],
   "source": [
    "x, y = np.meshgrid(np.linspace(0,300e3,301), np.linspace(0,100e3,101))"
   ]
  },
  {
   "cell_type": "code",
   "execution_count": null,
   "metadata": {},
   "outputs": [],
   "source": [
    "# %create_setup spl_model --default --verbose\n",
    "import xsimlab as xs\n",
    "\n",
    "ds_in = xs.create_setup(\n",
    "    model=spl_model,\n",
    "    clocks={'time': np.linspace(0,1e7,101),\n",
    "           'out': np.linspace(0,1e7,11)},\n",
    "    master_clock = 'time',\n",
    "    input_vars={\n",
    "        # nb. of grid nodes in (y, x)\n",
    "        'grid__shape': [101, 301],\n",
    "        # total grid length in (y, x)\n",
    "        'grid__length': [100e3, 300e3],\n",
    "        # node status at borders\n",
    "        'boundary__status': ['fixed_value', 'fixed_value', 'looped', 'looped'],\n",
    "        # uplift rate\n",
    "        'uplift__rate': 1e-3*np.where(x>200e3,1,0),\n",
    "        # random seed\n",
    "        'init_topography__seed': None,\n",
    "        # MFD partioner slope exponent\n",
    "        'flow__slope_exp': 1.0,\n",
    "        # drainage area exponent\n",
    "        'spl__area_exp': 0.4,\n",
    "        # slope exponent\n",
    "        'spl__slope_exp': 1,\n",
    "        # bedrock channel incision coefficient\n",
    "        'spl__k_coef_bedrock': 1e-5,\n",
    "        # soil (sediment) channel incision coefficient\n",
    "        'spl__k_coef_soil': 1e-5,\n",
    "        # detached bedrock transport/deposition coefficient\n",
    "        'spl__g_coef_bedrock': 1,\n",
    "        # soil (sediment) transport/deposition coefficient\n",
    "        'spl__g_coef_soil': 1,\n",
    "    },\n",
    "    output_vars={'topography__elevation': 'out',\n",
    "                 'bedrock__elevation': 'out',\n",
    "                'drainage__area': 'out'}\n",
    ")\n"
   ]
  },
  {
   "cell_type": "code",
   "execution_count": null,
   "metadata": {},
   "outputs": [],
   "source": [
    "with xs.monitoring.ProgressBar():\n",
    "    ds_out = ds_in.xsimlab.run(model=spl_model)"
   ]
  },
  {
   "cell_type": "code",
   "execution_count": null,
   "metadata": {},
   "outputs": [],
   "source": [
    "from ipyfastscape import TopoViz3d\n",
    "\n",
    "app = TopoViz3d(ds_out, canvas_height=600, time_dim=\"out\")\n",
    "\n",
    "app.components['background_color'].set_color('lightgray')\n",
    "app.components['vertical_exaggeration'].set_factor(5)\n",
    "app.components['timestepper'].go_to_time(ds_out.out[-1])\n",
    "\n",
    "app.show()"
   ]
  },
  {
   "cell_type": "markdown",
   "metadata": {},
   "source": [
    "Looking at the $y$-averaged topography shows the formation of a fan and a alluvial plain connecting the mountain to the \"ocean\" or base level."
   ]
  },
  {
   "cell_type": "code",
   "execution_count": null,
   "metadata": {},
   "outputs": [],
   "source": [
    "ds_out.topography__elevation.mean('y').isel(out=-1).plot()\n",
    "ds_out.bedrock__elevation.mean('y').isel(out=-1).plot()"
   ]
  },
  {
   "cell_type": "markdown",
   "metadata": {},
   "source": [
    "Finally we can couple this system to an isostatic, flexural response using the \"flexure\" process.\n",
    "\n",
    "This can be done by modifying the model (adding a process) and adjusting its inputs accordingly."
   ]
  },
  {
   "cell_type": "code",
   "execution_count": null,
   "metadata": {},
   "outputs": [],
   "source": [
    "from fastscape.processes import Flexure\n",
    "\n",
    "spl_model_flex = spl_model.update_processes({'flexure': Flexure})\n",
    "\n",
    "in_vars = {'flexure__e_thickness': 20e3, 'flexure__asthen_density': 3200, 'flexure__lithos_density': 2800}\n",
    "with xs.monitoring.ProgressBar(), spl_model_flex:\n",
    "    ds_out_flex = ds_in.xsimlab.update_vars(input_vars=in_vars).xsimlab.run()"
   ]
  },
  {
   "cell_type": "code",
   "execution_count": null,
   "metadata": {},
   "outputs": [],
   "source": [
    "ds_out_flex.topography__elevation.mean('y').isel(out=-1).plot()\n",
    "ds_out_flex.bedrock__elevation.mean('y').isel(out=-1).plot()"
   ]
  },
  {
   "cell_type": "code",
   "execution_count": null,
   "metadata": {},
   "outputs": [],
   "source": []
  }
 ],
 "metadata": {
  "kernelspec": {
   "display_name": "Python [conda env:fastscape]",
   "language": "python",
   "name": "conda-env-fastscape-py"
  },
  "language_info": {
   "codemirror_mode": {
    "name": "ipython",
    "version": 3
   },
   "file_extension": ".py",
   "mimetype": "text/x-python",
   "name": "python",
   "nbconvert_exporter": "python",
   "pygments_lexer": "ipython3",
   "version": "3.8.8"
  }
 },
 "nbformat": 4,
 "nbformat_minor": 4
}
