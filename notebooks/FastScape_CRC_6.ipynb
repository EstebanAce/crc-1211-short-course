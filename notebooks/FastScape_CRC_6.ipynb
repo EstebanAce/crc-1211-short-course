{
 "cells": [
  {
   "cell_type": "markdown",
   "metadata": {},
   "source": [
    "# Modeling an orogenic system using FastScape: 6. Response to tectonic variation"
   ]
  },
  {
   "cell_type": "markdown",
   "metadata": {},
   "source": [
    "![Henry Mountains](HenryMountains.jpg \"Henry Mountains\")"
   ]
  },
  {
   "cell_type": "code",
   "execution_count": null,
   "metadata": {},
   "outputs": [],
   "source": [
    "import numpy as np\n",
    "import matplotlib.pyplot as plt\n",
    "#plt.style.use('dark_background')\n",
    "\n",
    "import xsimlab as xs\n",
    "import xarray as xr\n",
    "%load_ext xsimlab.ipython\n",
    "\n",
    "from fastscape.models import basic_model\n"
   ]
  },
  {
   "cell_type": "markdown",
   "metadata": {},
   "source": [
    "Finally we are going to see how the source area (the mountain) reacts to cyclic perturbation in uplift rate.\n",
    "\n",
    "This does not make much sense as tectonics is unlikely to vary in a periodic manner. However, we will apply the *standard* method of computing the response of a system to periodic perturbation to characterize it.\n",
    "\n",
    "You should go through this notebook step-by-step and try to understand what is being done. It is very similar to the previous notebook so this should not be too difficult. You should also try to run this notebook after changing the period of the climate cycles to see how it affects the system response (in terms of flux amplitude and lag)."
   ]
  },
  {
   "cell_type": "code",
   "execution_count": null,
   "metadata": {},
   "outputs": [],
   "source": [
    "spl_model = basic_model.drop_processes('diffusion')"
   ]
  },
  {
   "cell_type": "code",
   "execution_count": null,
   "metadata": {},
   "outputs": [],
   "source": [
    "m = 0.4\n",
    "n = 1\n",
    "neq = 101\n",
    "Kf = 1e-5\n",
    "U = 1e-3\n",
    "\n",
    "nstep = 201\n",
    "teq = 1e7\n",
    "period = 1e8\n",
    "tfinal = teq + 5*period\n",
    "\n",
    "tim1 = np.linspace(0,teq,101)\n",
    "tim2 = np.linspace(teq + period/10, tfinal, 100)\n",
    "tim = np.concatenate((tim1,tim2))\n",
    "\n",
    "tecto = 1 + 0.5*np.sin(2*np.pi*(tim-teq)/period)\n",
    "\n",
    "U_tim = np.where(tim>teq, U*tecto, U)\n",
    "\n",
    "U_xr = xr.DataArray(data=U_tim, dims='time')\n",
    "\n",
    "fig, ax = plt.subplots(nrows = 1, ncols = 1, sharex=False, sharey=True, figsize=(12,7))\n",
    "\n",
    "ax.plot(tim, U_tim)"
   ]
  },
  {
   "cell_type": "code",
   "execution_count": null,
   "metadata": {},
   "outputs": [],
   "source": [
    "# %create_setup spl_model --default --verbose\n",
    "import xsimlab as xs\n",
    "\n",
    "ds_in = xs.create_setup(\n",
    "    model=spl_model,\n",
    "    clocks={'time': tim},\n",
    "    input_vars={\n",
    "        # nb. of grid nodes in (y, x)\n",
    "        'grid__shape': [101,101],\n",
    "        # total grid length in (y, x)\n",
    "        'grid__length': [1e5,1e5],\n",
    "        # node status at borders\n",
    "        'boundary__status': ['fixed_value', 'core', 'looped', 'looped'],\n",
    "        # uplift rate\n",
    "        'uplift__rate': U_xr,\n",
    "        # random seed\n",
    "        'init_topography__seed': None,\n",
    "        # bedrock channel incision coefficient\n",
    "        'spl__k_coef': Kf,\n",
    "        # drainage area exponent\n",
    "        'spl__area_exp': m,\n",
    "        # slope exponent\n",
    "        'spl__slope_exp': n,\n",
    "    },\n",
    "    output_vars={'topography__elevation': 'time'}\n",
    ")\n"
   ]
  },
  {
   "cell_type": "code",
   "execution_count": null,
   "metadata": {},
   "outputs": [],
   "source": [
    "import zarr\n",
    "zgroup = zarr.group(\"output.zarr\", overwrite=True)"
   ]
  },
  {
   "cell_type": "code",
   "execution_count": null,
   "metadata": {},
   "outputs": [],
   "source": [
    "with xs.monitoring.ProgressBar():\n",
    "    ds_out = ds_in.xsimlab.run(model=spl_model, store=zgroup)"
   ]
  },
  {
   "cell_type": "code",
   "execution_count": null,
   "metadata": {},
   "outputs": [],
   "source": [
    "from ipyfastscape import TopoViz3d\n",
    "\n",
    "app = TopoViz3d(ds_out, canvas_height=300, time_dim=\"time\")\n",
    "\n",
    "app.components['background_color'].set_color('lightgray')\n",
    "app.components['vertical_exaggeration'].set_factor(5)\n",
    "app.components['timestepper'].go_to_time(ds_out.time[-1])\n",
    "\n",
    "app.show()"
   ]
  },
  {
   "cell_type": "markdown",
   "metadata": {},
   "source": [
    "The flux of material, $\\phi$, coming out of the orogen can be calculated according to:\n",
    "\n",
    "$$\\phi=\\frac{U-<\\frac{\\partial h}{\\partial t}>}{U}$$"
   ]
  },
  {
   "cell_type": "code",
   "execution_count": null,
   "metadata": {},
   "outputs": [],
   "source": [
    "fig, ax = plt.subplots(nrows=1, ncols=1, sharex=False, sharey=True, figsize=(12, 7))\n",
    "\n",
    "((ds_out.uplift__rate - ds_out.topography__elevation.differentiate(\"time\").mean((\"x\", \"y\"))) / ds_out.uplift__rate\n",
    ").plot(ax=ax, label=\"Flux\")\n",
    "(ds_out.uplift__rate / U).plot(ax=ax, label=\"Tecto\")\n",
    "(ds_out.topography__elevation.mean((\"x\", \"y\")) / ds_out.topography__elevation.mean()).plot(ax=ax, label=\"Topo\")\n",
    "\n",
    "ax.legend()\n",
    "ax.set_xlim((teq,tfinal))"
   ]
  },
  {
   "cell_type": "code",
   "execution_count": null,
   "metadata": {},
   "outputs": [],
   "source": []
  }
 ],
 "metadata": {
  "kernelspec": {
   "display_name": "Python [conda env:fastscape]",
   "language": "python",
   "name": "conda-env-fastscape-py"
  },
  "language_info": {
   "codemirror_mode": {
    "name": "ipython",
    "version": 3
   },
   "file_extension": ".py",
   "mimetype": "text/x-python",
   "name": "python",
   "nbconvert_exporter": "python",
   "pygments_lexer": "ipython3",
   "version": "3.8.8"
  }
 },
 "nbformat": 4,
 "nbformat_minor": 4
}
