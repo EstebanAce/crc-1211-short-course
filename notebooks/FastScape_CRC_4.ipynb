{
 "cells": [
  {
   "cell_type": "markdown",
   "metadata": {},
   "source": [
    "# Modeling orogenic system using FastScape: 4. Effect of hillslope processes"
   ]
  },
  {
   "cell_type": "markdown",
   "metadata": {},
   "source": [
    "![Henry Mountains](HenryMountains.jpg \"Henry Mountains\")"
   ]
  },
  {
   "cell_type": "markdown",
   "metadata": {},
   "source": [
    "The simplest way to include hillslope processes consists in asuming that transport along hillslopes is linearly proportional to local topographic gradient; combining such a simple transport law with the principle of conservation of mass leads to a simple linear diffusion equaiton/term that needs to be added to the topographic evolution equation:\n",
    "\n",
    "$$\\frac{\\partial h}{\\partial t}=0=U-K_fA^mS^n+K_d\\nabla^2 h$$\n",
    "\n",
    "where $K_d$ is a transport coefficient and $\\nabla^2$ the Laplacian operator, which is very similar to topography curvature. This simple model predicts that region of negative curvature (hill tops) should erode while regions of positive curvature (valley bottoms) should accumulate sediment.\n",
    "\n",
    "For a more detailed review of the various representations of hillslope processes see [Braun et al, 2001](https://pubs.geoscienceworld.org/gsa/geology/article/29/8/683/192066/Sediment-transport-mechanisms-on-soil-mantled) for a full derivation."
   ]
  },
  {
   "cell_type": "code",
   "execution_count": null,
   "metadata": {},
   "outputs": [],
   "source": [
    "import numpy as np\n",
    "import matplotlib.pyplot as plt\n",
    "#plt.style.use('dark_background')"
   ]
  },
  {
   "cell_type": "markdown",
   "metadata": {},
   "source": [
    "## Load the same model but keeping hill slope diffusion ##\n",
    "\n",
    "We procedd the same way as previously but now keeping the diffusion process"
   ]
  },
  {
   "cell_type": "code",
   "execution_count": null,
   "metadata": {},
   "outputs": [],
   "source": [
    "import xsimlab as xs # modeling framework used for FastScape development\n",
    "import xarray as xr # xarray is a python package to work with labelled multi-dimensional arrays\n",
    "%load_ext xsimlab.ipython\n",
    "\n",
    "from fastscape.models import basic_model\n",
    "\n",
    "spl_model = basic_model#.drop_processes('diffusion')"
   ]
  },
  {
   "cell_type": "markdown",
   "metadata": {},
   "source": [
    "We see that the model has an extra process called \"diffusion\" which also has its own parameters and variables"
   ]
  },
  {
   "cell_type": "code",
   "execution_count": null,
   "metadata": {},
   "outputs": [],
   "source": [
    "spl_model.visualize()\n"
   ]
  },
  {
   "cell_type": "code",
   "execution_count": null,
   "metadata": {},
   "outputs": [],
   "source": [
    "spl_model.diffusion"
   ]
  },
  {
   "cell_type": "markdown",
   "metadata": {},
   "source": [
    "Now you can build your own setup; I propose to use a diffusivity of 1 m$^2$/yr"
   ]
  },
  {
   "cell_type": "code",
   "execution_count": null,
   "metadata": {},
   "outputs": [],
   "source": [
    "# %create_setup spl_model --default --verbose\n"
   ]
  },
  {
   "cell_type": "markdown",
   "metadata": {},
   "source": [
    "Here is a working solution"
   ]
  },
  {
   "cell_type": "code",
   "execution_count": null,
   "metadata": {},
   "outputs": [],
   "source": [
    "# %create_setup spl_model --default --verbose\n",
    "import xsimlab as xs\n",
    "\n",
    "ds_in = xs.create_setup(\n",
    "    model=spl_model,\n",
    "    clocks={'time': np.linspace(0,2e7,201),\n",
    "           'out': np.linspace(0, 2e7, 21)},\n",
    "    master_clock = 'time',\n",
    "    input_vars={\n",
    "        # nb. of grid nodes in (y, x)\n",
    "        'grid__shape': [101,201],\n",
    "        # total grid length in (y, x)\n",
    "        'grid__length': [1e5,2e5],\n",
    "        # node status at borders\n",
    "        'boundary__status': 'fixed_value',\n",
    "        # uplift rate\n",
    "        'uplift__rate': 1e-3,\n",
    "        # random seed\n",
    "        'init_topography__seed': None,\n",
    "        # bedrock channel incision coefficient\n",
    "        'spl__k_coef': 1e-5,\n",
    "        # drainage area exponent\n",
    "        'spl__area_exp': 0.4,\n",
    "        # slope exponent\n",
    "        'spl__slope_exp': 1,\n",
    "        # diffusivity (transport coefficient)\n",
    "        'diffusion__diffusivity': 1,\n",
    "    },\n",
    "    output_vars={\n",
    "        'topography__elevation': 'out',\n",
    "        'drainage__area': 'out'}\n",
    ")\n",
    "\n"
   ]
  },
  {
   "cell_type": "markdown",
   "metadata": {},
   "source": [
    "Let's run the model"
   ]
  },
  {
   "cell_type": "code",
   "execution_count": null,
   "metadata": {},
   "outputs": [],
   "source": [
    "with xs.monitoring.ProgressBar():\n",
    "    ds_out = ds_in.xsimlab.run(model=spl_model)"
   ]
  },
  {
   "cell_type": "markdown",
   "metadata": {},
   "source": [
    "And look at the solution"
   ]
  },
  {
   "cell_type": "code",
   "execution_count": null,
   "metadata": {},
   "outputs": [],
   "source": [
    "from ipyfastscape import TopoViz3d\n",
    "\n",
    "app = TopoViz3d(ds_out, canvas_height=600, time_dim=\"out\")\n",
    "\n",
    "app.components['background_color'].set_color('lightgray')\n",
    "app.components['vertical_exaggeration'].set_factor(5)\n",
    "app.components['timestepper'].go_to_time(ds_out.out[-1])\n",
    "\n",
    "app.show()"
   ]
  },
  {
   "cell_type": "markdown",
   "metadata": {},
   "source": [
    "We would like now to appreciate the effect of the hillslope processes; for this we are going to run a series or \"batch\" of experiments, let's 12, with different values of the diffusivity. This can be easily done with FastScape and XrraySimlab framework. We only need to define a variable that has a \"batch\" dimension, as follows:"
   ]
  },
  {
   "cell_type": "code",
   "execution_count": null,
   "metadata": {},
   "outputs": [],
   "source": [
    "# %create_setup spl_model --default --verbose\n",
    "import xsimlab as xs\n",
    "\n",
    "ds_in = xs.create_setup(\n",
    "    model=spl_model,\n",
    "    clocks={'time': np.linspace(0,2e7,201),\n",
    "           'out': np.linspace(0, 2e7, 21)},\n",
    "    master_clock = 'time',\n",
    "    input_vars={\n",
    "        # nb. of grid nodes in (y, x)\n",
    "        'grid__shape': [101,201],\n",
    "        # total grid length in (y, x)\n",
    "        'grid__length': [1e5,2e5],\n",
    "        # node status at borders\n",
    "        'boundary__status': 'fixed_value',\n",
    "        # uplift rate\n",
    "        'uplift__rate': 1e-3,\n",
    "        # random seed\n",
    "        'init_topography__seed': 1234, #so that all models are based on the same initial ramdom noise\n",
    "        # bedrock channel incision coefficient\n",
    "        'spl__k_coef': 1e-5,\n",
    "        # drainage area exponent\n",
    "        'spl__area_exp': 0.4,\n",
    "        # slope exponent\n",
    "        'spl__slope_exp': 1,\n",
    "        # diffusivity (transport coefficient)\n",
    "        'diffusion__diffusivity': ('batch', 10**np.linspace(-2,1,12)),\n",
    "    },\n",
    "    output_vars={\n",
    "        'topography__elevation': 'out',\n",
    "        'drainage__area': 'out'}\n",
    ")\n"
   ]
  },
  {
   "cell_type": "markdown",
   "metadata": {},
   "source": [
    "We can run these 12 models in parallel on a multi-core machine, whether you are on a PC or a super computer, as the framework will do all the job for you using the \"dask\" facility. If you have 12 cores it will take the same time as running 1 model; if you have 4 cores, it will take 3 times more time, etc.\n",
    "\n",
    "Note that we want to keep all the output for all the model runs, which implies quite a bit of storage and needs to be written to the disk (it may get to large to be stored in memory, in a single cell/notebook). For this we make use of \"zarr\" which is a very efficient way to store intermediary results on the disk in complete transparence..."
   ]
  },
  {
   "cell_type": "markdown",
   "metadata": {},
   "source": [
    "Let's run the model and visualize it"
   ]
  },
  {
   "cell_type": "code",
   "execution_count": null,
   "metadata": {},
   "outputs": [],
   "source": [
    "import dask\n",
    "import zarr\n",
    "zgroup = zarr.group(\"output.zarr\", overwrite=True)\n",
    "\n",
    "with xs.monitoring.ProgressBar():\n",
    "    ds_out_batch = ds_in.xsimlab.run(model=spl_model,\n",
    "                               store=zgroup,\n",
    "                               batch_dim='batch', parallel=True, scheduler=\"processes\")"
   ]
  },
  {
   "cell_type": "markdown",
   "metadata": {},
   "source": [
    "When we now inspect the model results, we see that another dimension has been added to the output dataframe, called \"batch\""
   ]
  },
  {
   "cell_type": "code",
   "execution_count": null,
   "metadata": {},
   "outputs": [],
   "source": [
    "from ipyfastscape import TopoViz3d\n",
    "\n",
    "app = TopoViz3d(ds_out_batch, canvas_height=600, time_dim=\"out\")\n",
    "\n",
    "app.components['background_color'].set_color('lightgray')\n",
    "app.components['vertical_exaggeration'].set_factor(5)\n",
    "app.components['timestepper'].go_to_time(ds_out_batch.out[-1])\n",
    "\n",
    "app.show()"
   ]
  },
  {
   "cell_type": "markdown",
   "metadata": {},
   "source": [
    "We see that the effect of changing the relative importance of the hillslope processes is to produce landscapes that are characterized vy varying drainage density.\n",
    "\n",
    "A standadr way to measure the competition between fluvial (or advective) and hllslope (or diffusive) processes is to introduce a Peclet number (see [Perron et al, 2008](https://agupubs.onlinelibrary.wiley.com/doi/full/10.1029/2007JF000977), or [Theodoratos et al, 2018](https://esurf.copernicus.org/articles/6/779/2018/) for more details)"
   ]
  },
  {
   "cell_type": "code",
   "execution_count": null,
   "metadata": {},
   "outputs": [],
   "source": []
  }
 ],
 "metadata": {
  "kernelspec": {
   "display_name": "Python [conda env:fastscape]",
   "language": "python",
   "name": "conda-env-fastscape-py"
  },
  "language_info": {
   "codemirror_mode": {
    "name": "ipython",
    "version": 3
   },
   "file_extension": ".py",
   "mimetype": "text/x-python",
   "name": "python",
   "nbconvert_exporter": "python",
   "pygments_lexer": "ipython3",
   "version": "3.8.8"
  }
 },
 "nbformat": 4,
 "nbformat_minor": 4
}
